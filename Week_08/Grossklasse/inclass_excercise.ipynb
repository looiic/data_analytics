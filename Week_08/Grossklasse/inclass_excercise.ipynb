{
 "cells": [
  {
   "cell_type": "code",
   "execution_count": 107,
   "id": "d4be9dde",
   "metadata": {},
   "outputs": [],
   "source": [
    "import pandas as pd\n",
    "from sklearn.model_selection import train_test_split\n",
    "from sklearn.ensemble import RandomForestRegressor\n",
    "from sklearn.metrics import mean_squared_error, r2_score\n",
    "import statsmodels.api as sm\n",
    "import numpy as np\n",
    "import matplotlib.pyplot as plt\n",
    "from sklearn.preprocessing import OneHotEncoder"
   ]
  },
  {
   "cell_type": "code",
   "execution_count": 108,
   "id": "26cd19df",
   "metadata": {},
   "outputs": [
    {
     "name": "stdout",
     "output_type": "stream",
     "text": [
      "(3819, 4)\n"
     ]
    },
    {
     "data": {
      "text/html": [
       "<div>\n",
       "<style scoped>\n",
       "    .dataframe tbody tr th:only-of-type {\n",
       "        vertical-align: middle;\n",
       "    }\n",
       "\n",
       "    .dataframe tbody tr th {\n",
       "        vertical-align: top;\n",
       "    }\n",
       "\n",
       "    .dataframe thead th {\n",
       "        text-align: right;\n",
       "    }\n",
       "</style>\n",
       "<table border=\"1\" class=\"dataframe\">\n",
       "  <thead>\n",
       "    <tr style=\"text-align: right;\">\n",
       "      <th></th>\n",
       "      <th>Mileage_num</th>\n",
       "      <th>HP_num</th>\n",
       "      <th>Fuel_Type</th>\n",
       "      <th>Price_num</th>\n",
       "    </tr>\n",
       "  </thead>\n",
       "  <tbody>\n",
       "    <tr>\n",
       "      <th>0</th>\n",
       "      <td>75000</td>\n",
       "      <td>245</td>\n",
       "      <td>Diesel</td>\n",
       "      <td>22500</td>\n",
       "    </tr>\n",
       "    <tr>\n",
       "      <th>1</th>\n",
       "      <td>46655</td>\n",
       "      <td>184</td>\n",
       "      <td>Benzin</td>\n",
       "      <td>23749</td>\n",
       "    </tr>\n",
       "    <tr>\n",
       "      <th>2</th>\n",
       "      <td>138955</td>\n",
       "      <td>306</td>\n",
       "      <td>Benzin</td>\n",
       "      <td>18500</td>\n",
       "    </tr>\n",
       "    <tr>\n",
       "      <th>3</th>\n",
       "      <td>43000</td>\n",
       "      <td>360</td>\n",
       "      <td>Benzin</td>\n",
       "      <td>36000</td>\n",
       "    </tr>\n",
       "    <tr>\n",
       "      <th>4</th>\n",
       "      <td>43300</td>\n",
       "      <td>252</td>\n",
       "      <td>Benzin</td>\n",
       "      <td>48500</td>\n",
       "    </tr>\n",
       "    <tr>\n",
       "      <th>...</th>\n",
       "      <td>...</td>\n",
       "      <td>...</td>\n",
       "      <td>...</td>\n",
       "      <td>...</td>\n",
       "    </tr>\n",
       "    <tr>\n",
       "      <th>3966</th>\n",
       "      <td>78000</td>\n",
       "      <td>400</td>\n",
       "      <td>Benzin</td>\n",
       "      <td>58400</td>\n",
       "    </tr>\n",
       "    <tr>\n",
       "      <th>3967</th>\n",
       "      <td>315000</td>\n",
       "      <td>232</td>\n",
       "      <td>Benzin</td>\n",
       "      <td>15900</td>\n",
       "    </tr>\n",
       "    <tr>\n",
       "      <th>3968</th>\n",
       "      <td>85000</td>\n",
       "      <td>525</td>\n",
       "      <td>Benzin</td>\n",
       "      <td>42000</td>\n",
       "    </tr>\n",
       "    <tr>\n",
       "      <th>3969</th>\n",
       "      <td>188920</td>\n",
       "      <td>193</td>\n",
       "      <td>Benzin</td>\n",
       "      <td>9980</td>\n",
       "    </tr>\n",
       "    <tr>\n",
       "      <th>3970</th>\n",
       "      <td>134000</td>\n",
       "      <td>193</td>\n",
       "      <td>Benzin</td>\n",
       "      <td>13500</td>\n",
       "    </tr>\n",
       "  </tbody>\n",
       "</table>\n",
       "<p>3819 rows × 4 columns</p>\n",
       "</div>"
      ],
      "text/plain": [
       "      Mileage_num  HP_num Fuel_Type  Price_num\n",
       "0           75000     245    Diesel      22500\n",
       "1           46655     184    Benzin      23749\n",
       "2          138955     306    Benzin      18500\n",
       "3           43000     360    Benzin      36000\n",
       "4           43300     252    Benzin      48500\n",
       "...           ...     ...       ...        ...\n",
       "3966        78000     400    Benzin      58400\n",
       "3967       315000     232    Benzin      15900\n",
       "3968        85000     525    Benzin      42000\n",
       "3969       188920     193    Benzin       9980\n",
       "3970       134000     193    Benzin      13500\n",
       "\n",
       "[3819 rows x 4 columns]"
      ]
     },
     "execution_count": 108,
     "metadata": {},
     "output_type": "execute_result"
    }
   ],
   "source": [
    "df_cars = pd.read_csv(\"autoscout24_data_prepared.csv\")\n",
    "df_cars = df_cars.loc[(df_cars['Fuel_Type']=='Benzin') | (df_cars['Fuel_Type']=='Diesel')]\n",
    "df_cars = df_cars[['Mileage_num', 'HP_num', 'Fuel_Type', 'Price_num']]\n",
    "df_cars = df_cars.dropna(axis='index', how='all')\n",
    "df_cars = df_cars.drop_duplicates()\n",
    "print(df_cars.shape)\n",
    "df_cars"
   ]
  },
  {
   "cell_type": "code",
   "execution_count": 109,
   "id": "78113648",
   "metadata": {},
   "outputs": [
    {
     "data": {
      "text/plain": [
       "Benzin    2647\n",
       "Diesel    1172\n",
       "Name: Fuel_Type, dtype: int64"
      ]
     },
     "execution_count": 109,
     "metadata": {},
     "output_type": "execute_result"
    }
   ],
   "source": [
    "df_cars['Fuel_Type'].value_counts()"
   ]
  },
  {
   "cell_type": "code",
   "execution_count": 110,
   "id": "588bbe98",
   "metadata": {},
   "outputs": [
    {
     "data": {
      "text/html": [
       "<div>\n",
       "<style scoped>\n",
       "    .dataframe tbody tr th:only-of-type {\n",
       "        vertical-align: middle;\n",
       "    }\n",
       "\n",
       "    .dataframe tbody tr th {\n",
       "        vertical-align: top;\n",
       "    }\n",
       "\n",
       "    .dataframe thead th {\n",
       "        text-align: right;\n",
       "    }\n",
       "</style>\n",
       "<table border=\"1\" class=\"dataframe\">\n",
       "  <thead>\n",
       "    <tr style=\"text-align: right;\">\n",
       "      <th></th>\n",
       "      <th>Mileage_num</th>\n",
       "      <th>HP_num</th>\n",
       "      <th>Price_num</th>\n",
       "      <th>Fuel_Type_Diesel</th>\n",
       "    </tr>\n",
       "  </thead>\n",
       "  <tbody>\n",
       "    <tr>\n",
       "      <th>0</th>\n",
       "      <td>75000.0</td>\n",
       "      <td>245.0</td>\n",
       "      <td>22500.0</td>\n",
       "      <td>1.0</td>\n",
       "    </tr>\n",
       "    <tr>\n",
       "      <th>1</th>\n",
       "      <td>46655.0</td>\n",
       "      <td>184.0</td>\n",
       "      <td>23749.0</td>\n",
       "      <td>0.0</td>\n",
       "    </tr>\n",
       "    <tr>\n",
       "      <th>2</th>\n",
       "      <td>138955.0</td>\n",
       "      <td>306.0</td>\n",
       "      <td>18500.0</td>\n",
       "      <td>0.0</td>\n",
       "    </tr>\n",
       "    <tr>\n",
       "      <th>3</th>\n",
       "      <td>43000.0</td>\n",
       "      <td>360.0</td>\n",
       "      <td>36000.0</td>\n",
       "      <td>0.0</td>\n",
       "    </tr>\n",
       "    <tr>\n",
       "      <th>4</th>\n",
       "      <td>43300.0</td>\n",
       "      <td>252.0</td>\n",
       "      <td>48500.0</td>\n",
       "      <td>0.0</td>\n",
       "    </tr>\n",
       "    <tr>\n",
       "      <th>...</th>\n",
       "      <td>...</td>\n",
       "      <td>...</td>\n",
       "      <td>...</td>\n",
       "      <td>...</td>\n",
       "    </tr>\n",
       "    <tr>\n",
       "      <th>3656</th>\n",
       "      <td>NaN</td>\n",
       "      <td>NaN</td>\n",
       "      <td>NaN</td>\n",
       "      <td>1.0</td>\n",
       "    </tr>\n",
       "    <tr>\n",
       "      <th>3736</th>\n",
       "      <td>NaN</td>\n",
       "      <td>NaN</td>\n",
       "      <td>NaN</td>\n",
       "      <td>0.0</td>\n",
       "    </tr>\n",
       "    <tr>\n",
       "      <th>3757</th>\n",
       "      <td>NaN</td>\n",
       "      <td>NaN</td>\n",
       "      <td>NaN</td>\n",
       "      <td>0.0</td>\n",
       "    </tr>\n",
       "    <tr>\n",
       "      <th>3777</th>\n",
       "      <td>NaN</td>\n",
       "      <td>NaN</td>\n",
       "      <td>NaN</td>\n",
       "      <td>0.0</td>\n",
       "    </tr>\n",
       "    <tr>\n",
       "      <th>3778</th>\n",
       "      <td>NaN</td>\n",
       "      <td>NaN</td>\n",
       "      <td>NaN</td>\n",
       "      <td>1.0</td>\n",
       "    </tr>\n",
       "  </tbody>\n",
       "</table>\n",
       "<p>3965 rows × 4 columns</p>\n",
       "</div>"
      ],
      "text/plain": [
       "      Mileage_num  HP_num  Price_num  Fuel_Type_Diesel\n",
       "0         75000.0   245.0    22500.0               1.0\n",
       "1         46655.0   184.0    23749.0               0.0\n",
       "2        138955.0   306.0    18500.0               0.0\n",
       "3         43000.0   360.0    36000.0               0.0\n",
       "4         43300.0   252.0    48500.0               0.0\n",
       "...           ...     ...        ...               ...\n",
       "3656          NaN     NaN        NaN               1.0\n",
       "3736          NaN     NaN        NaN               0.0\n",
       "3757          NaN     NaN        NaN               0.0\n",
       "3777          NaN     NaN        NaN               0.0\n",
       "3778          NaN     NaN        NaN               1.0\n",
       "\n",
       "[3965 rows x 4 columns]"
      ]
     },
     "execution_count": 110,
     "metadata": {},
     "output_type": "execute_result"
    }
   ],
   "source": [
    "encoder = OneHotEncoder(handle_unknown=\"ignore\", sparse=False, drop='first')\n",
    "encoder.fit(df_cars[['Fuel_Type']])\n",
    "onehot = encoder.transform(df_cars[['Fuel_Type']])\n",
    "df_fuel = pd.DataFrame(onehot, columns=encoder.get_feature_names_out(['Fuel_Type']))\n",
    "df_onehot = pd.concat([df_cars[['Mileage_num', 'HP_num', 'Price_num']], df_fuel], axis=1)\n",
    "df_onehot"
   ]
  },
  {
   "cell_type": "code",
   "execution_count": 111,
   "id": "3cbc7b04",
   "metadata": {},
   "outputs": [
    {
     "data": {
      "text/html": [
       "<div>\n",
       "<style scoped>\n",
       "    .dataframe tbody tr th:only-of-type {\n",
       "        vertical-align: middle;\n",
       "    }\n",
       "\n",
       "    .dataframe tbody tr th {\n",
       "        vertical-align: top;\n",
       "    }\n",
       "\n",
       "    .dataframe thead th {\n",
       "        text-align: right;\n",
       "    }\n",
       "</style>\n",
       "<table border=\"1\" class=\"dataframe\">\n",
       "  <thead>\n",
       "    <tr style=\"text-align: right;\">\n",
       "      <th></th>\n",
       "      <th>Mileage_num</th>\n",
       "      <th>HP_num</th>\n",
       "      <th>Price_num</th>\n",
       "      <th>fuel_Benzin</th>\n",
       "      <th>fuel_Diesel</th>\n",
       "    </tr>\n",
       "  </thead>\n",
       "  <tbody>\n",
       "    <tr>\n",
       "      <th>0</th>\n",
       "      <td>75000</td>\n",
       "      <td>245</td>\n",
       "      <td>22500</td>\n",
       "      <td>0</td>\n",
       "      <td>1</td>\n",
       "    </tr>\n",
       "    <tr>\n",
       "      <th>1</th>\n",
       "      <td>46655</td>\n",
       "      <td>184</td>\n",
       "      <td>23749</td>\n",
       "      <td>1</td>\n",
       "      <td>0</td>\n",
       "    </tr>\n",
       "    <tr>\n",
       "      <th>2</th>\n",
       "      <td>138955</td>\n",
       "      <td>306</td>\n",
       "      <td>18500</td>\n",
       "      <td>1</td>\n",
       "      <td>0</td>\n",
       "    </tr>\n",
       "    <tr>\n",
       "      <th>3</th>\n",
       "      <td>43000</td>\n",
       "      <td>360</td>\n",
       "      <td>36000</td>\n",
       "      <td>1</td>\n",
       "      <td>0</td>\n",
       "    </tr>\n",
       "    <tr>\n",
       "      <th>4</th>\n",
       "      <td>43300</td>\n",
       "      <td>252</td>\n",
       "      <td>48500</td>\n",
       "      <td>1</td>\n",
       "      <td>0</td>\n",
       "    </tr>\n",
       "  </tbody>\n",
       "</table>\n",
       "</div>"
      ],
      "text/plain": [
       "   Mileage_num  HP_num  Price_num  fuel_Benzin  fuel_Diesel\n",
       "0        75000     245      22500            0            1\n",
       "1        46655     184      23749            1            0\n",
       "2       138955     306      18500            1            0\n",
       "3        43000     360      36000            1            0\n",
       "4        43300     252      48500            1            0"
      ]
     },
     "execution_count": 111,
     "metadata": {},
     "output_type": "execute_result"
    }
   ],
   "source": [
    "df_onehot = pd.get_dummies(df_cars, columns=['Fuel_Type'], prefix=['fuel'])\n",
    "df_onehot.head()"
   ]
  },
  {
   "cell_type": "code",
   "execution_count": 112,
   "id": "8b1b8ab9",
   "metadata": {},
   "outputs": [
    {
     "name": "stdout",
     "output_type": "stream",
     "text": [
      "(3055, 3)\n",
      "(764, 3)\n",
      "(3055,)\n",
      "(764,)\n"
     ]
    }
   ],
   "source": [
    "X_train, X_test, y_train, y_test = train_test_split(df_onehot[['Mileage_num', 'HP_num', 'fuel_Benzin']], df_onehot['Price_num'], test_size=0.2, random_state=42)\n",
    "print(X_train.shape)\n",
    "print(X_test.shape)\n",
    "print(y_train.shape)\n",
    "print(y_test.shape)\n",
    "\n",
    "y_test = np.array(y_test)"
   ]
  },
  {
   "cell_type": "markdown",
   "id": "65aa6567",
   "metadata": {},
   "source": [
    "### Linear Regression Model"
   ]
  },
  {
   "cell_type": "code",
   "execution_count": 98,
   "id": "e78e16da",
   "metadata": {},
   "outputs": [
    {
     "name": "stdout",
     "output_type": "stream",
     "text": [
      "                            OLS Regression Results                            \n",
      "==============================================================================\n",
      "Dep. Variable:              Price_num   R-squared:                       0.515\n",
      "Model:                            OLS   Adj. R-squared:                  0.514\n",
      "Method:                 Least Squares   F-statistic:                     1080.\n",
      "Date:                Tue, 07 Nov 2023   Prob (F-statistic):               0.00\n",
      "Time:                        15:17:55   Log-Likelihood:                -34229.\n",
      "No. Observations:                3055   AIC:                         6.847e+04\n",
      "Df Residuals:                    3051   BIC:                         6.849e+04\n",
      "Df Model:                           3                                         \n",
      "Covariance Type:            nonrobust                                         \n",
      "===============================================================================\n",
      "                  coef    std err          t      P>|t|      [0.025      0.975]\n",
      "-------------------------------------------------------------------------------\n",
      "const        1.566e+04   1017.406     15.394      0.000    1.37e+04    1.77e+04\n",
      "Mileage_num    -0.1581      0.005    -30.034      0.000      -0.168      -0.148\n",
      "HP_num        130.9203      2.901     45.122      0.000     125.231     136.609\n",
      "fuel_Benzin -6183.1042    712.885     -8.673      0.000   -7580.887   -4785.321\n",
      "==============================================================================\n",
      "Omnibus:                     3092.413   Durbin-Watson:                   2.041\n",
      "Prob(Omnibus):                  0.000   Jarque-Bera (JB):           329556.635\n",
      "Skew:                           4.700   Prob(JB):                         0.00\n",
      "Kurtosis:                      53.006   Cond. No.                     3.81e+05\n",
      "==============================================================================\n",
      "\n",
      "Notes:\n",
      "[1] Standard Errors assume that the covariance matrix of the errors is correctly specified.\n",
      "[2] The condition number is large, 3.81e+05. This might indicate that there are\n",
      "strong multicollinearity or other numerical problems.\n"
     ]
    }
   ],
   "source": [
    "X_train = sm.add_constant(X_train)\n",
    "model = sm.OLS(y_train, X_train).fit()\n",
    "print(model.summary())"
   ]
  },
  {
   "cell_type": "code",
   "execution_count": 103,
   "id": "0d572e2b",
   "metadata": {},
   "outputs": [
    {
     "name": "stdout",
     "output_type": "stream",
     "text": [
      "Predictions on the test dataset:\n",
      "[23458.42976661 40369.24999071  5223.1205811  34942.15930036\n",
      " 32840.28497056 25494.97638106 -1488.61465053 32130.35174705\n",
      "  6936.17894918 24839.12197281]\n",
      "\n",
      "Actual values:\n",
      "[14500 35000  5900 16500 24500 19800  2500 12000  4350 21900]\n",
      "\n",
      "Root Mean Squared Error (RMSE): 21693.558333987206\n"
     ]
    }
   ],
   "source": [
    "X_test = sm.add_constant(X_test)\n",
    "predictions_linear_reg = model.predict(X_test)\n",
    "\n",
    "predictions_linear_reg = np.array(predictions_linear_reg)\n",
    "\n",
    "print(\"Predictions with linear regression:\")\n",
    "print(predictions_linear_reg[:10])\n",
    "print(\"\")\n",
    "print(\"Actual values:\")\n",
    "print(y_test[:10])\n",
    "\n",
    "mse = np.mean((predictions_linear_reg - y_test) ** 2)\n",
    "rmse = np.sqrt(mse)\n",
    "print(\"\")\n",
    "print(\"Root Mean Squared Error (RMSE):\", rmse)"
   ]
  },
  {
   "cell_type": "code",
   "execution_count": 104,
   "id": "636408df",
   "metadata": {},
   "outputs": [
    {
     "data": {
      "image/png": "[encoded data removed]",
      "text/plain": [
       "<Figure size 1000x400 with 2 Axes>"
      ]
     },
     "metadata": {},
     "output_type": "display_data"
    }
   ],
   "source": [
    "fig, axs = plt.subplots(1, 2, figsize=(10, 4))\n",
    "\n",
    "axs[0].hist(predictions_linear_reg, bins=20, color='blue', alpha=0.7, edgecolor='black')\n",
    "axs[0].set_title('Regression Predictions')\n",
    "axs[0].set_xlim(-20000, 120000)\n",
    "axs[0].set_ylim(0, 200)\n",
    "\n",
    "axs[1].hist(y_test, bins=60, color='red', alpha=0.7, edgecolor='black')\n",
    "axs[1].set_title('Actual Values')\n",
    "axs[1].set_xlim(-20000, 120000)\n",
    "axs[1].set_ylim(0, 200)\n",
    "\n",
    "plt.tight_layout()\n",
    "plt.show()"
   ]
  },
  {
   "cell_type": "markdown",
   "id": "66892777",
   "metadata": {},
   "source": [
    "### Random forest regression model"
   ]
  },
  {
   "cell_type": "code",
   "execution_count": 105,
   "id": "0baf78a4",
   "metadata": {},
   "outputs": [
    {
     "name": "stdout",
     "output_type": "stream",
     "text": [
      "Predictions on the test dataset:\n",
      "[14672.78 39437.07  5445.2  25344.   33204.99 20319.5   3729.09 25189.19\n",
      "  7165.5  12318.  ]\n",
      "\n",
      "Actual values:\n",
      "[14500 35000  5900 16500 24500 19800  2500 12000  4350 21900]\n",
      "\n",
      "Root Mean Squared Error (RMSE): 18476.538119026558\n"
     ]
    }
   ],
   "source": [
    "rf_regressor = RandomForestRegressor(n_estimators=100, random_state=42)\n",
    "rf_regressor.fit(X_train, y_train)\n",
    "X_test = sm.add_constant(X_test)\n",
    "predictions_random_forest = rf_regressor.predict(X_test)\n",
    "\n",
    "print(\"Predictions with random forest:\")\n",
    "print(predictions_random_forest[:10])\n",
    "print(\"\")\n",
    "print(\"Actual values:\")\n",
    "print(y_test[:10])\n",
    "\n",
    "mse = np.mean((predictions_random_forest - y_test) ** 2)\n",
    "rmse = np.sqrt(mse)\n",
    "print(\"\")\n",
    "print(\"Root Mean Squared Error (RMSE):\", rmse)"
   ]
  },
  {
   "cell_type": "code",
   "execution_count": 106,
   "id": "3914bf70",
   "metadata": {},
   "outputs": [
    {
     "data": {
      "image/png": "[encoded data removed]",
      "text/plain": [
       "<Figure size 1000x400 with 2 Axes>"
      ]
     },
     "metadata": {},
     "output_type": "display_data"
    }
   ],
   "source": [
    "fig, axs = plt.subplots(1, 2, figsize=(10, 4))\n",
    "\n",
    "axs[0].hist(predictions_random_forest, bins=20, color='blue', alpha=0.7, edgecolor='black')\n",
    "axs[0].set_title('Random Forest Predictions')\n",
    "axs[0].set_xlim(-20000, 120000)\n",
    "axs[0].set_ylim(0, 200)\n",
    "\n",
    "axs[1].hist(y_test, bins=60, color='red', alpha=0.7, edgecolor='black')\n",
    "axs[1].set_title('Actual Values')\n",
    "axs[1].set_xlim(-20000, 120000)\n",
    "axs[1].set_ylim(0, 200)\n",
    "\n",
    "plt.tight_layout()\n",
    "plt.show()"
   ]
  }
 ],
 "metadata": {
  "kernelspec": {
   "display_name": "Python 3 (ipykernel)",
   "language": "python",
   "name": "python3"
  },
  "language_info": {
   "codemirror_mode": {
    "name": "ipython",
    "version": 3
   },
   "file_extension": ".py",
   "mimetype": "text/x-python",
   "name": "python",
   "nbconvert_exporter": "python",
   "pygments_lexer": "ipython3",
   "version": "3.9.13"
  }
 },
 "nbformat": 4,
 "nbformat_minor": 5
}
