{
 "cells": [
  {
   "cell_type": "code",
   "execution_count": 1,
   "id": "d4389739",
   "metadata": {},
   "outputs": [],
   "source": [
    "import mysql.connector\n",
    "import pandas as pd\n",
    "from sqlalchemy import create_engine"
   ]
  },
  {
   "cell_type": "code",
   "execution_count": 2,
   "id": "1219f82a",
   "metadata": {},
   "outputs": [],
   "source": [
    "db_url = \"mysql+mysqlconnector://{USER}:{PWD}@{HOST}/{DBNAME}\"\n",
    "\n",
    "db_url = db_url.format(\n",
    "    USER = \"root\", \n",
    "    PWD = \"QsLdzoV7u9ZxuIeL\",\n",
    "    HOST = \"localhost:3306\",\n",
    "    DBNAME = \"eventfrogdata\"\n",
    ")"
   ]
  },
  {
   "cell_type": "code",
   "execution_count": 3,
   "id": "92afd2e9",
   "metadata": {},
   "outputs": [],
   "source": [
    "sql_query = \"\"\"\n",
    "SELECT \n",
    "    `web-scraper-order`,\n",
    "    name,\n",
    "    description,\n",
    "    price,\n",
    "    address,\n",
    "    category,\n",
    "    time,\n",
    "    MAKEDATE(2023, 334 + SUBSTRING(date, 5, 3)) AS date_formatted\n",
    "FROM\n",
    "    events_raw\n",
    "WHERE\n",
    "    is_eventgruppe IS NULL\n",
    "ORDER BY date_formatted ASC;\n",
    "\"\"\""
   ]
  },
  {
   "cell_type": "code",
   "execution_count": 4,
   "id": "3f593d56",
   "metadata": {},
   "outputs": [],
   "source": [
    "engine = create_engine(db_url, echo=False)\n",
    "\n",
    "with engine.begin() as conn:\n",
    "    \n",
    "    df_events = pd.read_sql_query(\n",
    "        sql=sql_query, # query\n",
    "        con=conn # database connection \n",
    "    )"
   ]
  },
  {
   "cell_type": "code",
   "execution_count": 5,
   "id": "3ec22273",
   "metadata": {},
   "outputs": [
    {
     "name": "stdout",
     "output_type": "stream",
     "text": [
      "(1671, 8)\n"
     ]
    },
    {
     "data": {
      "text/html": [
       "<div>\n",
       "<style scoped>\n",
       "    .dataframe tbody tr th:only-of-type {\n",
       "        vertical-align: middle;\n",
       "    }\n",
       "\n",
       "    .dataframe tbody tr th {\n",
       "        vertical-align: top;\n",
       "    }\n",
       "\n",
       "    .dataframe thead th {\n",
       "        text-align: right;\n",
       "    }\n",
       "</style>\n",
       "<table border=\"1\" class=\"dataframe\">\n",
       "  <thead>\n",
       "    <tr style=\"text-align: right;\">\n",
       "      <th></th>\n",
       "      <th>web-scraper-order</th>\n",
       "      <th>name</th>\n",
       "      <th>description</th>\n",
       "      <th>price</th>\n",
       "      <th>address</th>\n",
       "      <th>category</th>\n",
       "      <th>time</th>\n",
       "      <th>date_formatted</th>\n",
       "    </tr>\n",
       "  </thead>\n",
       "  <tbody>\n",
       "    <tr>\n",
       "      <th>0</th>\n",
       "      <td>1701178304-1235</td>\n",
       "      <td>Live-Musik mit Sina Anastasia</td>\n",
       "      <td>Ihr Name *ein Hauch von Melodie*\\n Ihre Ausstr...</td>\n",
       "      <td>None</td>\n",
       "      <td>Kellertheater im Haus der Vereine, Baselstrass...</td>\n",
       "      <td>Konzert / Singer &amp; Songwriter</td>\n",
       "      <td>19:00 Uhr\\n\\t\\t\\t\\t\\t\\t\\t\\t\\t\\n\\t\\t\\t\\t\\t\\t\\t\\...</td>\n",
       "      <td>2023-12-01</td>\n",
       "    </tr>\n",
       "    <tr>\n",
       "      <th>1</th>\n",
       "      <td>1701178306-1236</td>\n",
       "      <td>Metal Marmot, 1. - 2. Dezember 2023</td>\n",
       "      <td>Metal Marmot im Dezember 2023: Freitag 1. Deze...</td>\n",
       "      <td>CHF 40.00</td>\n",
       "      <td>Hotel Simplon, Kanderstegstrasse 25, Frutigen, CH</td>\n",
       "      <td>Konzert / Hard Rock &amp; Heavy Metal</td>\n",
       "      <td>Beginn:\\n\\t\\t\\t\\t\\t\\t\\t\\t\\n\\t\\t\\t\\t\\t\\t\\t\\t\\t1...</td>\n",
       "      <td>2023-12-01</td>\n",
       "    </tr>\n",
       "    <tr>\n",
       "      <th>2</th>\n",
       "      <td>1701178308-1237</td>\n",
       "      <td>JAMfreeday</td>\n",
       "      <td>Alle sind herzlich eingeladen um zu musizieren...</td>\n",
       "      <td>None</td>\n",
       "      <td>Dä 3.Stock, Industriestrasse, 28, Herisau, CH</td>\n",
       "      <td>Konzert</td>\n",
       "      <td>19:00 Uhr</td>\n",
       "      <td>2023-12-01</td>\n",
       "    </tr>\n",
       "    <tr>\n",
       "      <th>3</th>\n",
       "      <td>1701178310-1238</td>\n",
       "      <td>Am Hummelwald</td>\n",
       "      <td>Der Kurzprosaband \"Am Hummelwald - Miniaturen ...</td>\n",
       "      <td>None</td>\n",
       "      <td>Raum für Literatur, St.Leonhard-Strasse 40, St...</td>\n",
       "      <td>Konzert</td>\n",
       "      <td>19:00 Uhr</td>\n",
       "      <td>2023-12-01</td>\n",
       "    </tr>\n",
       "    <tr>\n",
       "      <th>4</th>\n",
       "      <td>1701178312-1239</td>\n",
       "      <td>BELPHEGOR 30 Year Tour Special Guest: Arkona &amp;...</td>\n",
       "      <td>BELPHEGOR MARSCHIERT DURCH EUROPA WINTER MMXXI...</td>\n",
       "      <td>CHF 38.00</td>\n",
       "      <td>Musigburg, Aarburg, CH</td>\n",
       "      <td>Konzert / Hard Rock &amp; Heavy Metal</td>\n",
       "      <td>19:00 Uhr\\n\\t\\t\\t\\t\\t\\t\\t\\t\\t\\n\\t\\t\\t\\t\\t\\t\\t\\...</td>\n",
       "      <td>2023-12-01</td>\n",
       "    </tr>\n",
       "  </tbody>\n",
       "</table>\n",
       "</div>"
      ],
      "text/plain": [
       "  web-scraper-order                                               name  \\\n",
       "0   1701178304-1235                      Live-Musik mit Sina Anastasia   \n",
       "1   1701178306-1236                Metal Marmot, 1. - 2. Dezember 2023   \n",
       "2   1701178308-1237                                         JAMfreeday   \n",
       "3   1701178310-1238                                      Am Hummelwald   \n",
       "4   1701178312-1239  BELPHEGOR 30 Year Tour Special Guest: Arkona &...   \n",
       "\n",
       "                                         description      price  \\\n",
       "0  Ihr Name *ein Hauch von Melodie*\\n Ihre Ausstr...       None   \n",
       "1  Metal Marmot im Dezember 2023: Freitag 1. Deze...  CHF 40.00   \n",
       "2  Alle sind herzlich eingeladen um zu musizieren...       None   \n",
       "3  Der Kurzprosaband \"Am Hummelwald - Miniaturen ...       None   \n",
       "4  BELPHEGOR MARSCHIERT DURCH EUROPA WINTER MMXXI...  CHF 38.00   \n",
       "\n",
       "                                             address  \\\n",
       "0  Kellertheater im Haus der Vereine, Baselstrass...   \n",
       "1  Hotel Simplon, Kanderstegstrasse 25, Frutigen, CH   \n",
       "2      Dä 3.Stock, Industriestrasse, 28, Herisau, CH   \n",
       "3  Raum für Literatur, St.Leonhard-Strasse 40, St...   \n",
       "4                             Musigburg, Aarburg, CH   \n",
       "\n",
       "                            category  \\\n",
       "0      Konzert / Singer & Songwriter   \n",
       "1  Konzert / Hard Rock & Heavy Metal   \n",
       "2                            Konzert   \n",
       "3                            Konzert   \n",
       "4  Konzert / Hard Rock & Heavy Metal   \n",
       "\n",
       "                                                time date_formatted  \n",
       "0  19:00 Uhr\\n\\t\\t\\t\\t\\t\\t\\t\\t\\t\\n\\t\\t\\t\\t\\t\\t\\t\\...     2023-12-01  \n",
       "1  Beginn:\\n\\t\\t\\t\\t\\t\\t\\t\\t\\n\\t\\t\\t\\t\\t\\t\\t\\t\\t1...     2023-12-01  \n",
       "2                                          19:00 Uhr     2023-12-01  \n",
       "3                                          19:00 Uhr     2023-12-01  \n",
       "4  19:00 Uhr\\n\\t\\t\\t\\t\\t\\t\\t\\t\\t\\n\\t\\t\\t\\t\\t\\t\\t\\...     2023-12-01  "
      ]
     },
     "execution_count": 5,
     "metadata": {},
     "output_type": "execute_result"
    }
   ],
   "source": [
    "print(df_events.shape)\n",
    "df_events.head()"
   ]
  },
  {
   "cell_type": "code",
   "execution_count": 6,
   "id": "0f267cfa",
   "metadata": {},
   "outputs": [
    {
     "data": {
      "text/plain": [
       "0        NaN\n",
       "1       40.0\n",
       "2        NaN\n",
       "3        NaN\n",
       "4       38.0\n",
       "        ... \n",
       "1666     NaN\n",
       "1667     NaN\n",
       "1668     NaN\n",
       "1669     NaN\n",
       "1670     NaN\n",
       "Name: price, Length: 1671, dtype: float64"
      ]
     },
     "execution_count": 6,
     "metadata": {},
     "output_type": "execute_result"
    }
   ],
   "source": [
    "df_events['price'] = df_events['price'].str.extract('(\\d+.\\d+)').astype(float)\n",
    "df_events['price']"
   ]
  },
  {
   "cell_type": "code",
   "execution_count": 7,
   "id": "b7041975",
   "metadata": {},
   "outputs": [
    {
     "data": {
      "text/plain": [
       "'Beginn:\\n\\t\\t\\t\\t\\t\\t\\t\\t\\n\\t\\t\\t\\t\\t\\t\\t\\t\\t19:00 Uhr'"
      ]
     },
     "execution_count": 7,
     "metadata": {},
     "output_type": "execute_result"
    }
   ],
   "source": [
    "df_events._get_value(1, 'time')"
   ]
  },
  {
   "cell_type": "code",
   "execution_count": 8,
   "id": "54db7d10",
   "metadata": {},
   "outputs": [],
   "source": [
    "df_time = df_events['time'].str.extractall('(\\d+:\\d+)').unstack()"
   ]
  },
  {
   "cell_type": "code",
   "execution_count": 9,
   "id": "7d05d993",
   "metadata": {},
   "outputs": [
    {
     "data": {
      "text/html": [
       "<div>\n",
       "<style scoped>\n",
       "    .dataframe tbody tr th:only-of-type {\n",
       "        vertical-align: middle;\n",
       "    }\n",
       "\n",
       "    .dataframe tbody tr th {\n",
       "        vertical-align: top;\n",
       "    }\n",
       "\n",
       "    .dataframe thead th {\n",
       "        text-align: right;\n",
       "    }\n",
       "</style>\n",
       "<table border=\"1\" class=\"dataframe\">\n",
       "  <thead>\n",
       "    <tr style=\"text-align: right;\">\n",
       "      <th></th>\n",
       "      <th>web-scraper-order</th>\n",
       "      <th>name</th>\n",
       "      <th>description</th>\n",
       "      <th>price</th>\n",
       "      <th>address</th>\n",
       "      <th>category</th>\n",
       "      <th>date_formatted</th>\n",
       "      <th>time_from</th>\n",
       "      <th>time_until</th>\n",
       "    </tr>\n",
       "  </thead>\n",
       "  <tbody>\n",
       "    <tr>\n",
       "      <th>0</th>\n",
       "      <td>1701178304-1235</td>\n",
       "      <td>Live-Musik mit Sina Anastasia</td>\n",
       "      <td>Ihr Name *ein Hauch von Melodie*\\n Ihre Ausstr...</td>\n",
       "      <td>NaN</td>\n",
       "      <td>Kellertheater im Haus der Vereine, Baselstrass...</td>\n",
       "      <td>Konzert / Singer &amp; Songwriter</td>\n",
       "      <td>2023-12-01</td>\n",
       "      <td>19:00</td>\n",
       "      <td>22:00</td>\n",
       "    </tr>\n",
       "    <tr>\n",
       "      <th>1</th>\n",
       "      <td>1701178306-1236</td>\n",
       "      <td>Metal Marmot, 1. - 2. Dezember 2023</td>\n",
       "      <td>Metal Marmot im Dezember 2023: Freitag 1. Deze...</td>\n",
       "      <td>40.0</td>\n",
       "      <td>Hotel Simplon, Kanderstegstrasse 25, Frutigen, CH</td>\n",
       "      <td>Konzert / Hard Rock &amp; Heavy Metal</td>\n",
       "      <td>2023-12-01</td>\n",
       "      <td>19:00</td>\n",
       "      <td>NaN</td>\n",
       "    </tr>\n",
       "    <tr>\n",
       "      <th>2</th>\n",
       "      <td>1701178308-1237</td>\n",
       "      <td>JAMfreeday</td>\n",
       "      <td>Alle sind herzlich eingeladen um zu musizieren...</td>\n",
       "      <td>NaN</td>\n",
       "      <td>Dä 3.Stock, Industriestrasse, 28, Herisau, CH</td>\n",
       "      <td>Konzert</td>\n",
       "      <td>2023-12-01</td>\n",
       "      <td>19:00</td>\n",
       "      <td>NaN</td>\n",
       "    </tr>\n",
       "    <tr>\n",
       "      <th>3</th>\n",
       "      <td>1701178310-1238</td>\n",
       "      <td>Am Hummelwald</td>\n",
       "      <td>Der Kurzprosaband \"Am Hummelwald - Miniaturen ...</td>\n",
       "      <td>NaN</td>\n",
       "      <td>Raum für Literatur, St.Leonhard-Strasse 40, St...</td>\n",
       "      <td>Konzert</td>\n",
       "      <td>2023-12-01</td>\n",
       "      <td>19:00</td>\n",
       "      <td>NaN</td>\n",
       "    </tr>\n",
       "    <tr>\n",
       "      <th>4</th>\n",
       "      <td>1701178312-1239</td>\n",
       "      <td>BELPHEGOR 30 Year Tour Special Guest: Arkona &amp;...</td>\n",
       "      <td>BELPHEGOR MARSCHIERT DURCH EUROPA WINTER MMXXI...</td>\n",
       "      <td>38.0</td>\n",
       "      <td>Musigburg, Aarburg, CH</td>\n",
       "      <td>Konzert / Hard Rock &amp; Heavy Metal</td>\n",
       "      <td>2023-12-01</td>\n",
       "      <td>19:00</td>\n",
       "      <td>23:50</td>\n",
       "    </tr>\n",
       "  </tbody>\n",
       "</table>\n",
       "</div>"
      ],
      "text/plain": [
       "  web-scraper-order                                               name  \\\n",
       "0   1701178304-1235                      Live-Musik mit Sina Anastasia   \n",
       "1   1701178306-1236                Metal Marmot, 1. - 2. Dezember 2023   \n",
       "2   1701178308-1237                                         JAMfreeday   \n",
       "3   1701178310-1238                                      Am Hummelwald   \n",
       "4   1701178312-1239  BELPHEGOR 30 Year Tour Special Guest: Arkona &...   \n",
       "\n",
       "                                         description  price  \\\n",
       "0  Ihr Name *ein Hauch von Melodie*\\n Ihre Ausstr...    NaN   \n",
       "1  Metal Marmot im Dezember 2023: Freitag 1. Deze...   40.0   \n",
       "2  Alle sind herzlich eingeladen um zu musizieren...    NaN   \n",
       "3  Der Kurzprosaband \"Am Hummelwald - Miniaturen ...    NaN   \n",
       "4  BELPHEGOR MARSCHIERT DURCH EUROPA WINTER MMXXI...   38.0   \n",
       "\n",
       "                                             address  \\\n",
       "0  Kellertheater im Haus der Vereine, Baselstrass...   \n",
       "1  Hotel Simplon, Kanderstegstrasse 25, Frutigen, CH   \n",
       "2      Dä 3.Stock, Industriestrasse, 28, Herisau, CH   \n",
       "3  Raum für Literatur, St.Leonhard-Strasse 40, St...   \n",
       "4                             Musigburg, Aarburg, CH   \n",
       "\n",
       "                            category date_formatted time_from time_until  \n",
       "0      Konzert / Singer & Songwriter     2023-12-01     19:00      22:00  \n",
       "1  Konzert / Hard Rock & Heavy Metal     2023-12-01     19:00        NaN  \n",
       "2                            Konzert     2023-12-01     19:00        NaN  \n",
       "3                            Konzert     2023-12-01     19:00        NaN  \n",
       "4  Konzert / Hard Rock & Heavy Metal     2023-12-01     19:00      23:50  "
      ]
     },
     "execution_count": 9,
     "metadata": {},
     "output_type": "execute_result"
    }
   ],
   "source": [
    "df_events['time_from'] = df_time[0][0]\n",
    "df_events['time_until'] = df_time[0][1]\n",
    "df_events = df_events.drop(columns='time')\n",
    "df_events.head()"
   ]
  },
  {
   "cell_type": "code",
   "execution_count": 10,
   "id": "d4f106ae",
   "metadata": {},
   "outputs": [],
   "source": [
    "df_events['duration_seconds'] = pd.to_datetime(df_events['time_until'], format='%H:%M') - pd.to_datetime(df_events['time_from'], format='%H:%M')\n",
    "df_events['duration_seconds'] = df_events['duration_seconds'].dt.seconds"
   ]
  },
  {
   "cell_type": "code",
   "execution_count": 11,
   "id": "d509c0cd",
   "metadata": {},
   "outputs": [],
   "source": [
    "df_events['is_concert'] = df_events['category'].str.contains('Konzert').astype(int)"
   ]
  },
  {
   "cell_type": "code",
   "execution_count": 12,
   "id": "315312d4",
   "metadata": {},
   "outputs": [],
   "source": [
    "df_events['description'] = df_events['description'].replace(r'\\n',' ', regex=True)\n",
    "df_events['description'] = df_events['description'].str.lower()\n",
    "df_events['description_len'] = df_events['description'].str.len()"
   ]
  },
  {
   "cell_type": "code",
   "execution_count": 14,
   "id": "aad5b172",
   "metadata": {},
   "outputs": [],
   "source": [
    "df_events.to_csv('data/events_prepared.csv')"
   ]
  }
 ],
 "metadata": {
  "kernelspec": {
   "display_name": "Python 3 (ipykernel)",
   "language": "python",
   "name": "python3"
  },
  "language_info": {
   "codemirror_mode": {
    "name": "ipython",
    "version": 3
   },
   "file_extension": ".py",
   "mimetype": "text/x-python",
   "name": "python",
   "nbconvert_exporter": "python",
   "pygments_lexer": "ipython3",
   "version": "3.9.13"
  }
 },
 "nbformat": 4,
 "nbformat_minor": 5
}
